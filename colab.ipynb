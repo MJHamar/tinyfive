{
  "nbformat": 4,
  "nbformat_minor": 0,
  "metadata": {
    "colab": {
      "provenance": []
    },
    "kernelspec": {
      "name": "python3",
      "display_name": "Python 3"
    },
    "language_info": {
      "name": "python"
    }
  },
  "cells": [
    {
      "cell_type": "markdown",
      "source": [
        "#TinyFive\n"
      ],
      "metadata": {
        "id": "jqCuiUtyULJW"
      }
    },
    {
      "cell_type": "markdown",
      "source": [
        "---\n",
        "## Setup"
      ],
      "metadata": {
        "id": "GjTX1NabV2Z7"
      }
    },
    {
      "cell_type": "code",
      "execution_count": null,
      "metadata": {
        "id": "P_o9BW_hTDdW",
        "colab": {
          "base_uri": "https://localhost:8080/"
        },
        "outputId": "c15f36c0-b334-4002-d441-ac45fc8f7147"
      },
      "outputs": [
        {
          "output_type": "stream",
          "name": "stdout",
          "text": [
            "Cloning into 'tinyfive'...\n",
            "remote: Enumerating objects: 191, done.\u001b[K\n",
            "remote: Counting objects: 100% (41/41), done.\u001b[K\n",
            "remote: Compressing objects: 100% (29/29), done.\u001b[K\n",
            "remote: Total 191 (delta 31), reused 21 (delta 12), pack-reused 150\u001b[K\n",
            "Receiving objects: 100% (191/191), 133.52 KiB | 1.10 MiB/s, done.\n",
            "Resolving deltas: 100% (116/116), done.\n",
            "/content/tinyfive\n"
          ]
        }
      ],
      "source": [
        "!git clone https://github.com/OpenMachine-ai/tinyfive.git\n",
        "%cd tinyfive\n",
        "from tinyfive import tinyfive\n",
        "import numpy as np\n",
        "\n",
        "m = tinyfive(mem_size=1000)  # instantiate RISC-V machine with 1KB of memory"
      ]
    },
    {
      "cell_type": "markdown",
      "source": [
        "---\n",
        "## Example 1: Multiply two numbers"
      ],
      "metadata": {
        "id": "vMcYdT9QlN1D"
      }
    },
    {
      "cell_type": "markdown",
      "source": [
        "### Example 1.1: Use upper-case instructions (option A) with back-door loading of registers"
      ],
      "metadata": {
        "id": "YDIQmlH3tBQo"
      }
    },
    {
      "cell_type": "code",
      "source": [
        "m.x[11] = 6         # manually load '6' into register x[11]\n",
        "m.x[12] = 7         # manually load '7' into register x[12]\n",
        "m.MUL(10, 11, 12)  # x[10] := x[11] * x[12]\n",
        "print(m.x[10])"
      ],
      "metadata": {
        "colab": {
          "base_uri": "https://localhost:8080/"
        },
        "id": "G7jvxzistIpw",
        "outputId": "718062e3-40a4-4023-9871-d16e3073a959"
      },
      "execution_count": null,
      "outputs": [
        {
          "output_type": "stream",
          "name": "stdout",
          "text": [
            "42\n"
          ]
        }
      ]
    },
    {
      "cell_type": "markdown",
      "source": [
        "### Example 1.2: Same as example 1.1, but now load the data from memory\n",
        "Specifically, the data values are stored at addresses 0 and 4. Here, each value is 32 bits wide (i.e. 4 bytes wide), which occupies 4 addresses in the byte-wide memory."
      ],
      "metadata": {
        "id": "31FT-79Zt3g9"
      }
    },
    {
      "cell_type": "code",
      "source": [
        "m.write_i32(6, 0)  # manually write '6' into mem[0] (memory @ address 0)\n",
        "m.write_i32(7, 4)  # manually write '7' into mem[4] (memory @ address 4)\n",
        "m.LW (11, 0,  0)   # load register x[11] from mem[0 + 0]\n",
        "m.LW (12, 4,  0)   # load register x[12] from mem[4 + 0]\n",
        "m.MUL(10, 11, 12)  # x[10] := x[11] * x[12]\n",
        "print(m.x[10])"
      ],
      "metadata": {
        "colab": {
          "base_uri": "https://localhost:8080/"
        },
        "id": "f6-9uQnIuLCP",
        "outputId": "91540393-8092-4940-98ee-b8b61aa78145"
      },
      "execution_count": null,
      "outputs": [
        {
          "output_type": "stream",
          "name": "stdout",
          "text": [
            "42\n"
          ]
        }
      ]
    },
    {
      "cell_type": "markdown",
      "source": [
        "### Example 1.3: Same as example 1.2, but now use `asm()` and `exe()` (option B)\n",
        "The assembler function `asm()` takes an instruction and converts it into machine code and stores it in memory at address s.pc. Once the entire assembly program is written into memory `mem[]`, the `exe()` function (aka ISS) can then exectute the machine code stored in memory."
      ],
      "metadata": {
        "id": "XPE0nl_VuU0E"
      }
    },
    {
      "cell_type": "code",
      "source": [
        "m.write_i32(6, 0)  # manually write '6' into mem[0] (memory @ address 0)\n",
        "m.write_i32(7, 4)  # manually write '7' into mem[4] (memory @ address 4)\n",
        "\n",
        "# store assembly program in mem[] starting at address 4*20\n",
        "m.pc = 4*20\n",
        "m.asm('lw',  11, 0,  0)   # load register x[11] from mem[0 + 0]\n",
        "m.asm('lw',  12, 4,  0)   # load register x[12] from mem[4 + 0]\n",
        "m.asm('mul', 10, 11, 12)  # x[10] := x[11] * x[12]\n",
        "\n",
        "# execute program from address 4*20: execute 3 instructions and then stop\n",
        "m.exe(start=4*20, instructions=3)\n",
        "print(m.x[10])"
      ],
      "metadata": {
        "colab": {
          "base_uri": "https://localhost:8080/"
        },
        "id": "3Bpg_UrTunUJ",
        "outputId": "e6fcb3a1-faf5-4627-d08f-c1e79d3b30b5"
      },
      "execution_count": null,
      "outputs": [
        {
          "output_type": "stream",
          "name": "stdout",
          "text": [
            "42\n"
          ]
        }
      ]
    },
    {
      "cell_type": "markdown",
      "source": [
        "---\n",
        "## Example 2: Add two vectors\n",
        "We are using the following memory map for adding two 8-element vectors `res[] := a[] + b[]`, where each vector element is 32 bits wide (i.e. each element occupies 4 byte-addresses in memory).\n",
        "\n",
        "|Byte address |\tContents |\n",
        "|-------------|----------|\n",
        "| 0 .. 4\\*7\t  | a-vector: a[0] is at address 0, a[7] is at address 4\\*7 |\n",
        "| 4\\*8 .. 4\\*15 |\tb-vector: b[0] is at address 4\\*8, b[7] is at address 4\\*15 |\n",
        "| 4\\*16 .. 4\\*23 | result-vector: res[0] is at address 4\\*16, res[7] is at  address 4\\*23 |"
      ],
      "metadata": {
        "id": "Lp0C1-avu0rn"
      }
    },
    {
      "cell_type": "markdown",
      "source": [
        "### Example 2.1: Use upper-case instructions (option A) with Python for-loop"
      ],
      "metadata": {
        "id": "hP3Z51Bnvy33"
      }
    },
    {
      "cell_type": "code",
      "source": [
        "# generate 8-element vectors a[] and b[] and store them in memory\n",
        "a = np.random.randint(100, size=8)\n",
        "b = np.random.randint(100, size=8)\n",
        "m.write_i32_vec(a, 0)    # write vector a[] to mem[0]\n",
        "m.write_i32_vec(b, 4*8)  # write vector b[] to mem[4*8]\n",
        "\n",
        "# pseudo-assembly for adding vectors a[] and b[] using Python for-loop\n",
        "for i in range(0, 8):\n",
        "  m.LW (11, 4*i,      0)   # load x[11] with a[i] from mem[4*i + 0]\n",
        "  m.LW (12, 4*(i+8),  0)   # load x[12] with b[i] from mem[4*(i+8) + 0]\n",
        "  m.ADD(10, 11,       12)  # x[10] := x[11] + x[12]\n",
        "  m.SW (10, 4*(i+16), 0)   # store results in mem[], starting at address 4*16\n",
        "\n",
        "# compare results against golden reference\n",
        "res = m.read_i32_vec(8, 4*16)  # read result vector from address 4*16\n",
        "ref = a + b                    # golden reference: simply add a[] + b[]\n",
        "print(res - ref)               # print difference (should be all-zero)"
      ],
      "metadata": {
        "colab": {
          "base_uri": "https://localhost:8080/"
        },
        "id": "-CyzZ7FUvAgi",
        "outputId": "a39044b0-e8db-45d3-e737-ead053ce9ccd"
      },
      "execution_count": null,
      "outputs": [
        {
          "output_type": "stream",
          "name": "stdout",
          "text": [
            "[0 0 0 0 0 0 0 0]\n"
          ]
        }
      ]
    },
    {
      "cell_type": "markdown",
      "source": [
        "### Example 2.2: Same as example 2.1, but now use asm() and exe() functions without branch instructions (option B)"
      ],
      "metadata": {
        "id": "SoMQCOT9wHJS"
      }
    },
    {
      "cell_type": "code",
      "source": [
        "# generate 8-element vectors a[] and b[] and store them in memory\n",
        "a = np.random.randint(100, size=8)\n",
        "b = np.random.randint(100, size=8)\n",
        "m.write_i32_vec(a, 0)    # write vector a[] to mem[0]\n",
        "m.write_i32_vec(b, 4*8)  # write vector b[] to mem[4*8]\n",
        "\n",
        "# store assembly program in mem[] starting at address 4*48\n",
        "m.pc = 4*48\n",
        "for i in range(0, 8):\n",
        "  m.asm('lw',  11, 4*i,      0)   # load x[11] with a[i] from mem[4*i + 0]\n",
        "  m.asm('lw',  12, 4*(i+8),  0)   # load x[12] with b[i] from mem[4*(i+8) + 0]\n",
        "  m.asm('add', 10, 11,       12)  # x[10] := x[11] + x[12]\n",
        "  m.asm('sw',  10, 4*(i+16), 0)   # store results in mem[], starting at address 4*16\n",
        "\n",
        "# execute program from address 4*48: execute 8*4 instructions and then stop\n",
        "m.exe(start=4*48, instructions=8*4)\n",
        "\n",
        "# compare results against golden reference\n",
        "res = m.read_i32_vec(8, 4*16)  # read result vector from address 4*16\n",
        "ref = a + b                    # golden reference: simply add a[] + b[]\n",
        "print(res - ref)               # print difference (should be all-zero)"
      ],
      "metadata": {
        "colab": {
          "base_uri": "https://localhost:8080/"
        },
        "id": "vYEhgwm4wLtL",
        "outputId": "f1513a52-2306-464a-8870-5e2d5a785dee"
      },
      "execution_count": null,
      "outputs": [
        {
          "output_type": "stream",
          "name": "stdout",
          "text": [
            "[0 0 0 0 0 0 0 0]\n"
          ]
        }
      ]
    },
    {
      "cell_type": "markdown",
      "source": [
        "### Example 2.3: Same as example 2.2, but now use asm() and exe() functions with branch instructions (option C)"
      ],
      "metadata": {
        "id": "I6JxVEojwTWO"
      }
    },
    {
      "cell_type": "code",
      "source": [
        "# generate 8-element vectors a[] and b[] and store them in memory\n",
        "a = np.random.randint(100, size=8)\n",
        "b = np.random.randint(100, size=8)\n",
        "m.write_i32_vec(a, 0)    # write vector a[] to mem[0]\n",
        "m.write_i32_vec(b, 4*8)  # write vector b[] to mem[4*8]\n",
        "\n",
        "# store assembly program starting at address 4*48\n",
        "m.pc = 4*48\n",
        "# x[13] is the loop-variable that is incremented by 4: 0, 4, .., 28\n",
        "# x[14] is the constant 28+4 = 32 for detecting the end of the for-loop\n",
        "m.lbl('start')                 # define label 'start'\n",
        "m.asm('add',  13, 0, 0)        # x[13] := x[0] + x[0] = 0 (because x[0] is always 0)\n",
        "m.asm('addi', 14, 0, 32)       # x[14] := x[0] + 32 = 32 (because x[0] is always 0)\n",
        "m.lbl('loop')                  # label 'loop'\n",
        "m.asm('lw',   11, 0,    13)    # load x[11] with a[] from mem[0 + x[13]]\n",
        "m.asm('lw',   12, 4*8,  13)    # load x[12] with b[] from mem[4*8 + x[13]]\n",
        "m.asm('add',  10, 11,   12)    # x[10] := x[11] + x[12]\n",
        "m.asm('sw',   10, 4*16, 13)    # store x[10] in mem[4*16 + x[13]]\n",
        "m.asm('addi', 13, 13,   4)     # x[13] := x[13] + 4 (increment x[13] by 4)\n",
        "m.asm('bne',  13, 14, 'loop')  # branch to 'loop' if x[13] != x[14]\n",
        "m.lbl('end')                   # label 'end'\n",
        "\n",
        "# execute program: start at label 'start', stop when label 'end' is reached\n",
        "m.exe(start='start', end='end')\n",
        "\n",
        "# compare results against golden reference\n",
        "res = m.read_i32_vec(8, 4*16)  # read result vector from address 4*16\n",
        "ref = a + b                    # golden reference: simply add a[] + b[]\n",
        "print(res - ref)               # print difference (should be all-zero)\n",
        "\n",
        "# dump out state\n",
        "m.dump_state()"
      ],
      "metadata": {
        "colab": {
          "base_uri": "https://localhost:8080/"
        },
        "id": "a78NTH1wwbW_",
        "outputId": "2df355e2-aef5-4b3e-dc25-fc2e69eaf3dc"
      },
      "execution_count": null,
      "outputs": [
        {
          "output_type": "stream",
          "name": "stdout",
          "text": [
            "[0 0 0 0 0 0 0 0]\n",
            "pc   :  224\n",
            "x[ 0]:    0, x[ 1]:    0, x[ 2]:    0, x[ 3]:    0\n",
            "x[ 4]:    0, x[ 5]:    0, x[ 6]:    0, x[ 7]:    0\n",
            "x[ 8]:    0, x[ 9]:    0, x[10]:  122, x[11]:   23\n",
            "x[12]:   99, x[13]:   32, x[14]:   32, x[15]:    0\n",
            "x[16]:    0, x[17]:    0, x[18]:    0, x[19]:    0\n",
            "x[20]:    0, x[21]:    0, x[22]:    0, x[23]:    0\n",
            "x[24]:    0, x[25]:    0, x[26]:    0, x[27]:    0\n",
            "x[28]:    0, x[29]:    0, x[30]:    0, x[31]:    0\n"
          ]
        }
      ]
    },
    {
      "cell_type": "markdown",
      "source": [
        "---\n",
        "## Run all examples from file `examples.py`"
      ],
      "metadata": {
        "id": "ai73INUwVpSo"
      }
    },
    {
      "cell_type": "code",
      "source": [
        "!python3 examples.py"
      ],
      "metadata": {
        "id": "K7KxLxD1T3lB",
        "colab": {
          "base_uri": "https://localhost:8080/"
        },
        "outputId": "c3eb455d-782e-4744-b923-cfefcace8b27"
      },
      "execution_count": null,
      "outputs": [
        {
          "output_type": "stream",
          "name": "stdout",
          "text": [
            "42\n",
            "42\n",
            "42\n",
            "[0 0 0 0 0 0 0 0]\n",
            "[0 0 0 0 0 0 0 0]\n",
            "[0 0 0 0 0 0 0 0]\n",
            "pc   :  224\n",
            "x[ 0]:    0, x[ 1]:    0, x[ 2]:    0, x[ 3]:    0\n",
            "x[ 4]:    0, x[ 5]:    0, x[ 6]:    0, x[ 7]:    0\n",
            "x[ 8]:    0, x[ 9]:    0, x[10]:   34, x[11]:   27\n",
            "x[12]:    7, x[13]:   32, x[14]:   32, x[15]:    0\n",
            "x[16]:    0, x[17]:    0, x[18]:    0, x[19]:    0\n",
            "x[20]:    0, x[21]:    0, x[22]:    0, x[23]:    0\n",
            "x[24]:    0, x[25]:    0, x[26]:    0, x[27]:    0\n",
            "x[28]:    0, x[29]:    0, x[30]:    0, x[31]:    0\n"
          ]
        }
      ]
    }
  ]
}
