{
  "nbformat": 4,
  "nbformat_minor": 0,
  "metadata": {
    "colab": {
      "provenance": []
    },
    "kernelspec": {
      "name": "python3",
      "display_name": "Python 3"
    },
    "language_info": {
      "name": "python"
    }
  },
  "cells": [
    {
      "cell_type": "markdown",
      "source": [
        "#TinyFive\n"
      ],
      "metadata": {
        "id": "jqCuiUtyULJW"
      }
    },
    {
      "cell_type": "markdown",
      "source": [
        "---\n",
        "## Setup"
      ],
      "metadata": {
        "id": "GjTX1NabV2Z7"
      }
    },
    {
      "cell_type": "code",
      "execution_count": null,
      "metadata": {
        "id": "P_o9BW_hTDdW",
        "colab": {
          "base_uri": "https://localhost:8080/"
        },
        "outputId": "c15f36c0-b334-4002-d441-ac45fc8f7147"
      },
      "outputs": [],
      "source": [
        "!pip install tinyfive\n",
        "from tinyfive.machine import machine\n",
        "import numpy as np\n",
        "\n",
        "m = machine(mem_size=1000)  # instantiate RISC-V machine with 1KB of memory"
      ]
    },
    {
      "cell_type": "markdown",
      "source": [
        "---\n",
        "## Example 1: Multiply two numbers"
      ],
      "metadata": {
        "id": "vMcYdT9QlN1D"
      }
    },
    {
      "cell_type": "markdown",
      "source": [
        "### Example 1.1: Use upper-case instructions (option A) with back-door loading of registers"
      ],
      "metadata": {
        "id": "YDIQmlH3tBQo"
      }
    },
    {
      "cell_type": "code",
      "source": [
        "m.x[11] = 6         # manually load '6' into register x[11]\n",
        "m.x[12] = 7         # manually load '7' into register x[12]\n",
        "m.MUL(10, 11, 12)  # x[10] := x[11] * x[12]\n",
        "print(m.x[10])"
      ],
      "metadata": {
        "colab": {
          "base_uri": "https://localhost:8080/"
        },
        "id": "G7jvxzistIpw",
        "outputId": "718062e3-40a4-4023-9871-d16e3073a959"
      },
      "execution_count": null,
      "outputs": []
    },
    {
      "cell_type": "markdown",
      "source": [
        "### Example 1.2: Same as example 1.1, but now load the data from memory\n",
        "Specifically, the data values are stored at addresses 0 and 4. Here, each value is 32 bits wide (i.e. 4 bytes wide), which occupies 4 addresses in the byte-wide memory."
      ],
      "metadata": {
        "id": "31FT-79Zt3g9"
      }
    },
    {
      "cell_type": "code",
      "source": [
        "m.write_i32(6, 0)  # manually write '6' into mem[0] (memory @ address 0)\n",
        "m.write_i32(7, 4)  # manually write '7' into mem[4] (memory @ address 4)\n",
        "m.LW (11, 0,  0)   # load register x[11] from mem[0 + 0]\n",
        "m.LW (12, 4,  0)   # load register x[12] from mem[4 + 0]\n",
        "m.MUL(10, 11, 12)  # x[10] := x[11] * x[12]\n",
        "print(m.x[10])"
      ],
      "metadata": {
        "colab": {
          "base_uri": "https://localhost:8080/"
        },
        "id": "f6-9uQnIuLCP",
        "outputId": "91540393-8092-4940-98ee-b8b61aa78145"
      },
      "execution_count": null,
      "outputs": []
    },
    {
      "cell_type": "markdown",
      "source": [
        "### Example 1.3: Same as example 1.2, but now use `asm()` and `exe()` (option B)\n",
        "The assembler function `asm()` takes an instruction and converts it into machine code and stores it in memory at address s.pc. Once the entire assembly program is written into memory `mem[]`, the `exe()` function (aka ISS) can then exectute the machine code stored in memory."
      ],
      "metadata": {
        "id": "XPE0nl_VuU0E"
      }
    },
    {
      "cell_type": "code",
      "source": [
        "m.write_i32(6, 0)  # manually write '6' into mem[0] (memory @ address 0)\n",
        "m.write_i32(7, 4)  # manually write '7' into mem[4] (memory @ address 4)\n",
        "\n",
        "# store assembly program in mem[] starting at address 4*20\n",
        "m.pc = 4*20\n",
        "m.asm('lw',  11, 0,  0)   # load register x[11] from mem[0 + 0]\n",
        "m.asm('lw',  12, 4,  0)   # load register x[12] from mem[4 + 0]\n",
        "m.asm('mul', 10, 11, 12)  # x[10] := x[11] * x[12]\n",
        "\n",
        "# execute program from address 4*20: execute 3 instructions and then stop\n",
        "m.exe(start=4*20, instructions=3)\n",
        "print(m.x[10])"
      ],
      "metadata": {
        "colab": {
          "base_uri": "https://localhost:8080/"
        },
        "id": "3Bpg_UrTunUJ",
        "outputId": "e6fcb3a1-faf5-4627-d08f-c1e79d3b30b5"
      },
      "execution_count": null,
      "outputs": []
    },
    {
      "cell_type": "markdown",
      "source": [
        "---\n",
        "## Example 2: Add two vectors\n",
        "We are using the following memory map for adding two 8-element vectors `res[] := a[] + b[]`, where each vector element is 32 bits wide (i.e. each element occupies 4 byte-addresses in memory).\n",
        "\n",
        "|Byte address |\tContents |\n",
        "|-------------|----------|\n",
        "| 0 .. 4\\*7\t  | a-vector: a[0] is at address 0, a[7] is at address 4\\*7 |\n",
        "| 4\\*8 .. 4\\*15 |\tb-vector: b[0] is at address 4\\*8, b[7] is at address 4\\*15 |\n",
        "| 4\\*16 .. 4\\*23 | result-vector: res[0] is at address 4\\*16, res[7] is at  address 4\\*23 |"
      ],
      "metadata": {
        "id": "Lp0C1-avu0rn"
      }
    },
    {
      "cell_type": "markdown",
      "source": [
        "### Example 2.1: Use upper-case instructions (option A) with Python for-loop"
      ],
      "metadata": {
        "id": "hP3Z51Bnvy33"
      }
    },
    {
      "cell_type": "code",
      "source": [
        "# generate 8-element vectors a[] and b[] and store them in memory\n",
        "a = np.random.randint(100, size=8)\n",
        "b = np.random.randint(100, size=8)\n",
        "m.write_i32_vec(a, 0)    # write vector a[] to mem[0]\n",
        "m.write_i32_vec(b, 4*8)  # write vector b[] to mem[4*8]\n",
        "\n",
        "# pseudo-assembly for adding vectors a[] and b[] using Python for-loop\n",
        "for i in range(0, 8):\n",
        "  m.LW (11, 4*i,      0)   # load x[11] with a[i] from mem[4*i + 0]\n",
        "  m.LW (12, 4*(i+8),  0)   # load x[12] with b[i] from mem[4*(i+8) + 0]\n",
        "  m.ADD(10, 11,       12)  # x[10] := x[11] + x[12]\n",
        "  m.SW (10, 4*(i+16), 0)   # store results in mem[], starting at address 4*16\n",
        "\n",
        "# compare results against golden reference\n",
        "res = m.read_i32_vec(8, 4*16)  # read result vector from address 4*16\n",
        "ref = a + b                    # golden reference: simply add a[] + b[]\n",
        "print(res - ref)               # print difference (should be all-zero)"
      ],
      "metadata": {
        "colab": {
          "base_uri": "https://localhost:8080/"
        },
        "id": "-CyzZ7FUvAgi",
        "outputId": "a39044b0-e8db-45d3-e737-ead053ce9ccd"
      },
      "execution_count": null,
      "outputs": []
    },
    {
      "cell_type": "markdown",
      "source": [
        "### Example 2.2: Same as example 2.1, but now use asm() and exe() functions without branch instructions (option B)"
      ],
      "metadata": {
        "id": "SoMQCOT9wHJS"
      }
    },
    {
      "cell_type": "code",
      "source": [
        "# generate 8-element vectors a[] and b[] and store them in memory\n",
        "a = np.random.randint(100, size=8)\n",
        "b = np.random.randint(100, size=8)\n",
        "m.write_i32_vec(a, 0)    # write vector a[] to mem[0]\n",
        "m.write_i32_vec(b, 4*8)  # write vector b[] to mem[4*8]\n",
        "\n",
        "# store assembly program in mem[] starting at address 4*48\n",
        "m.pc = 4*48\n",
        "for i in range(0, 8):\n",
        "  m.asm('lw',  11, 4*i,      0)   # load x[11] with a[i] from mem[4*i + 0]\n",
        "  m.asm('lw',  12, 4*(i+8),  0)   # load x[12] with b[i] from mem[4*(i+8) + 0]\n",
        "  m.asm('add', 10, 11,       12)  # x[10] := x[11] + x[12]\n",
        "  m.asm('sw',  10, 4*(i+16), 0)   # store results in mem[], starting at address 4*16\n",
        "\n",
        "# execute program from address 4*48: execute 8*4 instructions and then stop\n",
        "m.exe(start=4*48, instructions=8*4)\n",
        "\n",
        "# compare results against golden reference\n",
        "res = m.read_i32_vec(8, 4*16)  # read result vector from address 4*16\n",
        "ref = a + b                    # golden reference: simply add a[] + b[]\n",
        "print(res - ref)               # print difference (should be all-zero)"
      ],
      "metadata": {
        "colab": {
          "base_uri": "https://localhost:8080/"
        },
        "id": "vYEhgwm4wLtL",
        "outputId": "f1513a52-2306-464a-8870-5e2d5a785dee"
      },
      "execution_count": null,
      "outputs": []
    },
    {
      "cell_type": "markdown",
      "source": [
        "### Example 2.3: Same as example 2.2, but now use asm() and exe() functions with branch instructions (option C)"
      ],
      "metadata": {
        "id": "I6JxVEojwTWO"
      }
    },
    {
      "cell_type": "code",
      "source": [
        "# generate 8-element vectors a[] and b[] and store them in memory\n",
        "a = np.random.randint(100, size=8)\n",
        "b = np.random.randint(100, size=8)\n",
        "m.write_i32_vec(a, 0)    # write vector a[] to mem[0]\n",
        "m.write_i32_vec(b, 4*8)  # write vector b[] to mem[4*8]\n",
        "\n",
        "# store assembly program starting at address 4*48\n",
        "m.pc = 4*48\n",
        "# x[13] is the loop-variable that is incremented by 4: 0, 4, .., 28\n",
        "# x[14] is the constant 28+4 = 32 for detecting the end of the for-loop\n",
        "m.lbl('start')                 # define label 'start'\n",
        "m.asm('add',  13, 0, 0)        # x[13] := x[0] + x[0] = 0 (because x[0] is always 0)\n",
        "m.asm('addi', 14, 0, 32)       # x[14] := x[0] + 32 = 32 (because x[0] is always 0)\n",
        "m.lbl('loop')                  # label 'loop'\n",
        "m.asm('lw',   11, 0,    13)    # load x[11] with a[] from mem[0 + x[13]]\n",
        "m.asm('lw',   12, 4*8,  13)    # load x[12] with b[] from mem[4*8 + x[13]]\n",
        "m.asm('add',  10, 11,   12)    # x[10] := x[11] + x[12]\n",
        "m.asm('sw',   10, 4*16, 13)    # store x[10] in mem[4*16 + x[13]]\n",
        "m.asm('addi', 13, 13,   4)     # x[13] := x[13] + 4 (increment x[13] by 4)\n",
        "m.asm('bne',  13, 14, 'loop')  # branch to 'loop' if x[13] != x[14]\n",
        "m.lbl('end')                   # label 'end'\n",
        "\n",
        "# execute program: start at label 'start', stop when label 'end' is reached\n",
        "m.exe(start='start', end='end')\n",
        "\n",
        "# compare results against golden reference\n",
        "res = m.read_i32_vec(8, 4*16)  # read result vector from address 4*16\n",
        "ref = a + b                    # golden reference: simply add a[] + b[]\n",
        "print(res - ref)               # print difference (should be all-zero)\n",
        "\n",
        "# dump out state\n",
        "m.dump_state()"
      ],
      "metadata": {
        "colab": {
          "base_uri": "https://localhost:8080/"
        },
        "id": "a78NTH1wwbW_",
        "outputId": "2df355e2-aef5-4b3e-dc25-fc2e69eaf3dc"
      },
      "execution_count": null,
      "outputs": []
    },
    {
      "cell_type": "markdown",
      "source": [
        "---\n",
        "## Example 3: Multiply two matrices\n",
        "We are using the following memory map for multiplying two 4x4 matrices as `res := np.matmul(A,B)`, where each matrix element is 32 bits wide (i.e. each element occupies 4 byte-addresses in memory).\n",
        "\n",
        "|Byte address |\tContents |\n",
        "|-------------|----------|\n",
        "| 0 .. 4\\*31\t | A-matrix in row-major order: `A[0][0], A[0][1], ... A[3][3]` |\n",
        "| 4\\*32 .. 4\\*63 | B-matrix in row-major order: `B[i][j]` is at address `4*(32+i*4+j)` |\n",
        "| 4\\*64 .. 4\\*95 | result matrix `res[0][0] ... res[3][3]` |"
      ],
      "metadata": {
        "id": "Lp0C1-avu0rn_1"
      }
    },
    {
      "cell_type": "markdown",
      "source": [
        "### Example 3.1: Use upper-case instructions (option A) with Python for-loop"
      ],
      "metadata": {
        "id": "hP3Z51Bnvy33_1"
      }
    },
    {
      "cell_type": "code",
      "source": [
        "# generate 4x4 matrices A and B and store them in memory\n",
        "A = np.random.randint(100, size=(4,4))\n",
        "B = np.random.randint(100, size=(4,4))\n",
        "m.write_i32_vec(A.flatten(), 0)     # write matrix A to mem[0]\n",
        "m.write_i32_vec(B.flatten(), 4*32)  # write matrix B to mem[4*32]\n",
        "\n",
        "# pseudo-assembly for matmul(A,B) using Python for-loops\n",
        "for i in range(0, 4):\n",
        "  # load x[10] ... x[13] with row i of A\n",
        "  for k in range(0, 4):\n",
        "    m.LW (10+k, 4*(4*i+k), 0)  # load x[10+k] with A[i][k]\n",
        "\n",
        "  for j in range(0, 4):\n",
        "    # calculate dot product\n",
        "    m.LW (18, 4*(32+j), 0)        # load x[18] with B[0][j]\n",
        "    m.MUL(19, 10, 18)             # x[19] := x[10] * x[18] = A[i][0] * B[0][j]\n",
        "    for k in range(1, 4):\n",
        "      m.LW (18, 4*(32+4*k+j), 0)  # load x[18] with B[k][j]\n",
        "      m.MUL(18, 10+k, 18)         # x[18] := x[10+k] * x[18] = A[i][k] * B[k][j]\n",
        "      m.ADD(19, 19, 18)           # x[19] := x[19] + x[18]\n",
        "    m.SW (19, 4*(64+i*4+j), 0)    # store res[i][j] from x[19]\n",
        "\n",
        "# compare results against golden reference\n",
        "res = m.read_i32_vec(4*4, 4*64).reshape(4,4)  # read result matrix\n",
        "ref = np.matmul(A, B)            # golden reference\n",
        "print(np.array_equal(res, ref))  # should return 'True'"
      ],
      "metadata": {
        "colab": {
          "base_uri": "https://localhost:8080/"
        },
        "id": "-CyzZ7FUvAgi_1",
        "outputId": "a39044b0-e8db-45d3-e737-ead053ce9ccd_1"
      },
      "execution_count": null,
      "outputs": []
    },
    {
      "cell_type": "markdown",
      "source": [
        "### Example 3.2: Same as example 3.1, but now use `asm()` and `exe()` functions with branch instructions (option C)."
      ],
      "metadata": {
        "id": "hP3Z51Bnvy33_2"
      }
    },
    {
      "cell_type": "code",
      "source": [
        "# generate 4x4 matrices A and B and store them in memory\n",
        "A = np.random.randint(100, size=(4,4))\n",
        "B = np.random.randint(100, size=(4,4))\n",
        "m.write_i32_vec(A.flatten(), 0)     # write matrix A to mem[0]\n",
        "m.write_i32_vec(B.flatten(), 4*32)  # write matrix B to mem[4*32]\n",
        "\n",
        "# store assembly program starting at address 4*128\n",
        "m.pc = 4*128\n",
        "# here, we decrement the loop variables down to 0 so that we don't need an\n",
        "# additional register to hold the constant for detecting the end of the loop:\n",
        "#  - x[20] is 4*4*i (i.e. the outer-loop variable) and is decremented by 16 from 64\n",
        "#  - x[21] is 4*j (i.e. the inner-loop variable) and is decremented by 4 from 16\n",
        "m.lbl('start')\n",
        "m.asm('addi', 20, 0, 64)          # x[20] := 0 + 64\n",
        "\n",
        "m.lbl('outer-loop')\n",
        "m.asm('addi', 20, 20, -16)        # decrement loop-variable: x[20] := x[20] - 16\n",
        "m.asm('lw',   10, 0,   20)        # load x[10] with A[i][0] from mem[0 + x[20]]\n",
        "m.asm('lw',   11, 4,   20)        # load x[11] with A[i][1] from mem[4 + x[20]]\n",
        "m.asm('lw',   12, 2*4, 20)        # load x[12] with A[i][2] from mem[2*4 + x[20]]\n",
        "m.asm('lw',   13, 3*4, 20)        # load x[13] with A[i][3] from mem[3*4 + x[20]]\n",
        "m.asm('addi', 21, 0, 16)          # reset loop-variable j: x[21] := 0 + 16\n",
        "\n",
        "m.lbl('inner-loop')\n",
        "m.asm('addi', 21, 21, -4)         # decrement j: x[21] := x[21] - 4\n",
        "\n",
        "m.asm('lw',  18, 4*32, 21)        # load x[18] with B[0][j] from mem[4*32 + x[21]]\n",
        "m.asm('mul', 19, 10, 18)          # x[19] := x[10] * x[18] = A[i][0] * B[0][j]\n",
        "\n",
        "m.asm('lw',  18, 4*(32+4), 21)    # load x[18] with B[1][j]\n",
        "m.asm('mul', 18, 11, 18)          # x[18] := x[11] * x[18] = A[i][1] * B[1][j]\n",
        "m.asm('add', 19, 19, 18)          # x[19] := x[19] + x[18]\n",
        "\n",
        "m.asm('lw',  18, 4*(32+2*4), 21)  # load x[18] with B[2][j]\n",
        "m.asm('mul', 18, 12, 18)          # x[18] := x[11] * x[18] = A[i][2] * B[2][j]\n",
        "m.asm('add', 19, 19, 18)          # x[19] := x[19] + x[18]\n",
        "\n",
        "m.asm('lw',  18, 4*(32+3*4), 21)  # load x[18] with B[3][j]\n",
        "m.asm('mul', 18, 13, 18)          # x[18] := x[11] * x[18] = A[i][3] * B[3][j]\n",
        "m.asm('add', 19, 19, 18)          # x[19] := x[19] + x[18]\n",
        "\n",
        "m.asm('add', 24, 20, 21)          # calculate base address for result-matrix\n",
        "m.asm('sw',  19, 4*64, 24)        # store res[i][j] from x[19]\n",
        "\n",
        "m.asm('bne', 21, 0, 'inner-loop') # branch to 'inner-loop' if x[21] != 0\n",
        "m.asm('bne', 20, 0, 'outer-loop') # branch to 'outer-loop' if x[20] != 0\n",
        "m.lbl('end')\n",
        "\n",
        "# execute program from 'start' to 'end'\n",
        "m.exe(start='start', end='end')\n",
        "\n",
        "# compare results against golden reference\n",
        "res = m.read_i32_vec(4*4, 4*64).reshape(4,4)  # read result matrix\n",
        "ref = np.matmul(A, B)            # golden reference\n",
        "print(np.array_equal(res, ref))  # should return 'True'"
      ],
      "metadata": {
        "colab": {
          "base_uri": "https://localhost:8080/"
        },
        "id": "-CyzZ7FUvAgi_2",
        "outputId": "a39044b0-e8db-45d3-e737-ead053ce9ccd_2"
      },
      "execution_count": null,
      "outputs": []
    },
    {
      "cell_type": "markdown",
      "source": [
        "### Example 3.3: Same as example 3.2,  but now use Python for-loops in the assembly code to improve readability"
      ],
      "metadata": {
        "id": "hP3Z51Bnvy33_3"
      }
    },
    {
      "cell_type": "code",
      "source": [
        "# generate 4x4 matrices A and B and store them in memory\n",
        "A = np.random.randint(100, size=(4,4))\n",
        "B = np.random.randint(100, size=(4,4))\n",
        "m.write_i32_vec(A.flatten(), 0)     # write matrix A to mem[0]\n",
        "m.write_i32_vec(B.flatten(), 4*32)  # write matrix B to mem[4*32]\n",
        "\n",
        "# store assembly program starting at address 4*128\n",
        "m.pc = 4*128\n",
        "# here, we decrement the loop variables down to 0 so that we don't need an\n",
        "# additional register to hold the constant for detecting the end of the loop:\n",
        "#  - x[20] is 4*4*i (i.e. the outer-loop variable) and is decremented by 16 from 64\n",
        "#  - x[21] is 4*j (i.e. the inner-loop variable) and is decremented by 4 from 16\n",
        "m.lbl('start')\n",
        "m.asm('addi', 20, 0, 64)            # x[20] := 0 + 64\n",
        "m.lbl('outer-loop')\n",
        "m.asm('addi', 20, 20, -16)          # decrement loop-variable: x[20] := x[20] - 16\n",
        "for k in range(0, 4):\n",
        "  m.asm('lw', 10+k, k*4, 20)        # load x[10+k] with A[i][k] from mem[k*4 + x[20]]\n",
        "m.asm('addi', 21, 0, 16)            # reset loop-variable j: x[21] := 0 + 16\n",
        "m.lbl('inner-loop')\n",
        "m.asm('addi', 21, 21, -4)           # decrement j: x[21] := x[21] - 4\n",
        "m.asm('lw',   18, 4*32, 21)         # load x[18] with B[0][j] from mem[4*32 + x[21]]\n",
        "m.asm('mul',  19, 10, 18)           # x[19] := x[10] * x[18] = A[i][0] * B[0][j]\n",
        "for k in range(1, 4):\n",
        "  m.asm('lw',  18, 4*(32+k*4), 21)  # load x[18] with B[k][j]\n",
        "  m.asm('mul', 18, 10+k, 18)        # x[18] := x[10+k] * x[18] = A[i][k] * B[k][j]\n",
        "  m.asm('add', 19, 19, 18)          # x[19] := x[19] + x[18]\n",
        "m.asm('add', 24, 20, 21)            # calculate base address for result-matrix\n",
        "m.asm('sw',  19, 4*64, 24)          # store res[i][j] from x[19]\n",
        "m.asm('bne', 21, 0, 'inner-loop')   # branch to 'inner-loop' if x[21] != 0\n",
        "m.asm('bne', 20, 0, 'outer-loop')   # branch to 'outer-loop' if x[20] != 0\n",
        "m.lbl('end')\n",
        "\n",
        "# execute program from 'start' to 'end'\n",
        "m.exe(start='start', end='end')\n",
        "\n",
        "# compare results against golden reference\n",
        "res = m.read_i32_vec(4*4, 4*64).reshape(4,4)  # read result matrix\n",
        "ref = np.matmul(A, B)            # golden reference\n",
        "print(np.array_equal(res, ref))  # should return 'True'"
      ],
      "metadata": {
        "colab": {
          "base_uri": "https://localhost:8080/"
        },
        "id": "-CyzZ7FUvAgi_3",
        "outputId": "a39044b0-e8db-45d3-e737-ead053ce9ccd_3"
      },
      "execution_count": null,
      "outputs": []
    },
    {
      "cell_type": "markdown",
      "source": [
        "### Example 3.4: 4x4 matrix multiplication optimized for runtime at the expense of image size and register file usage. Specifically, we first store the entire B matrix in the register file. And we fully unroll the for-loops to eliminate loop variables and branch instructions at the expense of a larger image size."
      ],
      "metadata": {
        "id": "hP3Z51Bnvy33_4"
      }
    },
    {
      "cell_type": "code",
      "source": [
        "# generate 4x4 matrices A and B and store them in memory\n",
        "A = np.random.randint(100, size=(4,4))\n",
        "B = np.random.randint(100, size=(4,4))\n",
        "m.write_i32_vec(A.flatten(), 0)     # write matrix A to mem[0]\n",
        "m.write_i32_vec(B.flatten(), 4*32)  # write matrix B to mem[4*32]\n",
        "\n",
        "# store assembly program starting at address 4*128\n",
        "m.pc = 4*128\n",
        "m.lbl('start')\n",
        "# first, load the entire B matrix into reg-file x[16] ... x[31]\n",
        "for i in range(0, 4):\n",
        "  for j in range(0, 4):\n",
        "    m.asm('lw', 16+4*i+j, 4*(32+4*i+j), 0)\n",
        "# perform matmul in row-major order\n",
        "for i in range(0, 4):\n",
        "  # load x[10] ... x[13] with row i of A\n",
        "  for k in range(0, 4):\n",
        "    m.asm('lw', 10+k, 4*(4*i+k), 0)     # load x[10+k] with A[i][k]\n",
        "  for j in range(0, 4):\n",
        "    m.asm('mul', 15, 10, 16+j)          # x[15] := x[10] * x[16+j] = A[i][0] * B[0][j]\n",
        "    for k in range(1, 4):\n",
        "      m.asm('mul', 14, 10+k, 16+4*k+j)  # x[14] := x[10+k] * x[16+4k+j] = A[i][k] * B[k][j]\n",
        "      m.asm('add', 15, 15, 14)          # x[15] := x[15] + x[14]\n",
        "    m.asm('sw', 15, 4*(64+i*4+j), 0)    # store res[i][j] from x[15]\n",
        "m.lbl('end')\n",
        "\n",
        "# execute program from 'start' to 'end'\n",
        "m.exe(start='start', end='end')\n",
        "\n",
        "# compare results against golden reference\n",
        "res = m.read_i32_vec(4*4, 4*64).reshape(4,4)  # read result matrix\n",
        "ref = np.matmul(A, B)            # golden reference\n",
        "print(np.array_equal(res, ref))  # should return 'True'"
      ],
      "metadata": {
        "colab": {
          "base_uri": "https://localhost:8080/"
        },
        "id": "-CyzZ7FUvAgi_4",
        "outputId": "a39044b0-e8db-45d3-e737-ead053ce9ccd_4"
      },
      "execution_count": null,
      "outputs": []
    },
    {
      "cell_type": "markdown",
      "source": [
        "---\n",
        "## Run all examples from file `examples.py`"
      ],
      "metadata": {
        "id": "ai73INUwVpSo"
      }
    },
    {
      "cell_type": "code",
      "source": [
        "!git clone https://github.com/OpenMachine-ai/tinyfive.git\n",
        "%cd tinyfive\n",
        "!python3 examples.py"
      ],
      "metadata": {
        "id": "K7KxLxD1T3lB",
        "colab": {
          "base_uri": "https://localhost:8080/"
        },
        "outputId": "c3eb455d-782e-4744-b923-cfefcace8b27"
      },
      "execution_count": null,
      "outputs": []
    }
  ]
}
